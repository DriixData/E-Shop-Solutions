{
 "cells": [
  {
   "cell_type": "code",
   "execution_count": 1,
   "metadata": {
    "executionInfo": {
     "elapsed": 262,
     "status": "ok",
     "timestamp": 1736948945036,
     "user": {
      "displayName": "Cédric R.",
      "userId": "18405279669475939289"
     },
     "user_tz": -60
    },
    "id": "9rooIT7fN-o9"
   },
   "outputs": [],
   "source": [
    "import pandas as pd"
   ]
  },
  {
   "cell_type": "code",
   "execution_count": 4,
   "metadata": {
    "colab": {
     "base_uri": "https://localhost:8080/",
     "height": 460
    },
    "executionInfo": {
     "elapsed": 210,
     "status": "error",
     "timestamp": 1736949139149,
     "user": {
      "displayName": "Cédric R.",
      "userId": "18405279669475939289"
     },
     "user_tz": -60
    },
    "id": "1kESzZxfOI3g",
    "outputId": "4a4b1a52-9c77-48e0-deaa-8c94c500c98b"
   },
   "outputs": [],
   "source": [
    "df = pd.read_csv(\"../data/data.csv\", encoding='latin1')"
   ]
  },
  {
   "cell_type": "code",
   "execution_count": 108,
   "metadata": {},
   "outputs": [
    {
     "data": {
      "text/html": [
       "<div>\n",
       "<style scoped>\n",
       "    .dataframe tbody tr th:only-of-type {\n",
       "        vertical-align: middle;\n",
       "    }\n",
       "\n",
       "    .dataframe tbody tr th {\n",
       "        vertical-align: top;\n",
       "    }\n",
       "\n",
       "    .dataframe thead th {\n",
       "        text-align: right;\n",
       "    }\n",
       "</style>\n",
       "<table border=\"1\" class=\"dataframe\">\n",
       "  <thead>\n",
       "    <tr style=\"text-align: right;\">\n",
       "      <th></th>\n",
       "      <th>InvoiceNo</th>\n",
       "      <th>StockCode</th>\n",
       "      <th>Description</th>\n",
       "      <th>Quantity</th>\n",
       "      <th>InvoiceDate</th>\n",
       "      <th>UnitPrice</th>\n",
       "      <th>CustomerID</th>\n",
       "      <th>Country</th>\n",
       "    </tr>\n",
       "  </thead>\n",
       "  <tbody>\n",
       "    <tr>\n",
       "      <th>535699</th>\n",
       "      <td>581217</td>\n",
       "      <td>22735</td>\n",
       "      <td>RIBBON REEL SOCKS AND MITTENS</td>\n",
       "      <td>1</td>\n",
       "      <td>12/8/2011 9:20</td>\n",
       "      <td>3.29</td>\n",
       "      <td>NaN</td>\n",
       "      <td>United Kingdom</td>\n",
       "    </tr>\n",
       "    <tr>\n",
       "      <th>13058</th>\n",
       "      <td>537418</td>\n",
       "      <td>21508</td>\n",
       "      <td>VINTAGE KID DOLLY CARD</td>\n",
       "      <td>12</td>\n",
       "      <td>12/6/2010 15:13</td>\n",
       "      <td>0.42</td>\n",
       "      <td>17884.0</td>\n",
       "      <td>United Kingdom</td>\n",
       "    </tr>\n",
       "    <tr>\n",
       "      <th>487658</th>\n",
       "      <td>577774</td>\n",
       "      <td>23351</td>\n",
       "      <td>ROLL WRAP 50'S CHRISTMAS</td>\n",
       "      <td>3</td>\n",
       "      <td>11/21/2011 15:57</td>\n",
       "      <td>1.25</td>\n",
       "      <td>16712.0</td>\n",
       "      <td>United Kingdom</td>\n",
       "    </tr>\n",
       "    <tr>\n",
       "      <th>496099</th>\n",
       "      <td>578344</td>\n",
       "      <td>22282</td>\n",
       "      <td>12 EGG HOUSE PAINTED WOOD</td>\n",
       "      <td>1</td>\n",
       "      <td>11/24/2011 9:21</td>\n",
       "      <td>24.96</td>\n",
       "      <td>NaN</td>\n",
       "      <td>United Kingdom</td>\n",
       "    </tr>\n",
       "    <tr>\n",
       "      <th>402652</th>\n",
       "      <td>571508</td>\n",
       "      <td>21509</td>\n",
       "      <td>COWBOYS AND INDIANS BIRTHDAY CARD</td>\n",
       "      <td>2</td>\n",
       "      <td>10/17/2011 15:27</td>\n",
       "      <td>0.83</td>\n",
       "      <td>NaN</td>\n",
       "      <td>United Kingdom</td>\n",
       "    </tr>\n",
       "  </tbody>\n",
       "</table>\n",
       "</div>"
      ],
      "text/plain": [
       "       InvoiceNo StockCode                         Description  Quantity  \\\n",
       "535699    581217     22735       RIBBON REEL SOCKS AND MITTENS         1   \n",
       "13058     537418     21508             VINTAGE KID DOLLY CARD         12   \n",
       "487658    577774     23351            ROLL WRAP 50'S CHRISTMAS         3   \n",
       "496099    578344     22282           12 EGG HOUSE PAINTED WOOD         1   \n",
       "402652    571508     21509  COWBOYS AND INDIANS BIRTHDAY CARD          2   \n",
       "\n",
       "             InvoiceDate  UnitPrice  CustomerID         Country  \n",
       "535699    12/8/2011 9:20       3.29         NaN  United Kingdom  \n",
       "13058    12/6/2010 15:13       0.42     17884.0  United Kingdom  \n",
       "487658  11/21/2011 15:57       1.25     16712.0  United Kingdom  \n",
       "496099   11/24/2011 9:21      24.96         NaN  United Kingdom  \n",
       "402652  10/17/2011 15:27       0.83         NaN  United Kingdom  "
      ]
     },
     "execution_count": 108,
     "metadata": {},
     "output_type": "execute_result"
    }
   ],
   "source": [
    "df.sample(5)"
   ]
  },
  {
   "cell_type": "code",
   "execution_count": 109,
   "metadata": {},
   "outputs": [
    {
     "name": "stdout",
     "output_type": "stream",
     "text": [
      "<class 'pandas.core.frame.DataFrame'>\n",
      "RangeIndex: 541909 entries, 0 to 541908\n",
      "Data columns (total 8 columns):\n",
      " #   Column       Non-Null Count   Dtype  \n",
      "---  ------       --------------   -----  \n",
      " 0   InvoiceNo    541909 non-null  object \n",
      " 1   StockCode    541909 non-null  object \n",
      " 2   Description  540455 non-null  object \n",
      " 3   Quantity     541909 non-null  int64  \n",
      " 4   InvoiceDate  541909 non-null  object \n",
      " 5   UnitPrice    541909 non-null  float64\n",
      " 6   CustomerID   406829 non-null  float64\n",
      " 7   Country      541909 non-null  object \n",
      "dtypes: float64(2), int64(1), object(5)\n",
      "memory usage: 33.1+ MB\n"
     ]
    }
   ],
   "source": [
    "df.info()"
   ]
  },
  {
   "cell_type": "code",
   "execution_count": 110,
   "metadata": {},
   "outputs": [
    {
     "data": {
      "text/plain": [
       "'JJ/MM/AAAA'"
      ]
     },
     "execution_count": 110,
     "metadata": {},
     "output_type": "execute_result"
    }
   ],
   "source": [
    "dateliste = 'JJ/MM/AAAA'.split()\n",
    "dateliste[0]"
   ]
  },
  {
   "cell_type": "code",
   "execution_count": 111,
   "metadata": {},
   "outputs": [
    {
     "data": {
      "text/plain": [
       "0        2010-12-01\n",
       "1        2010-12-01\n",
       "2        2010-12-01\n",
       "3        2010-12-01\n",
       "4        2010-12-01\n",
       "            ...    \n",
       "541904   2011-12-09\n",
       "541905   2011-12-09\n",
       "541906   2011-12-09\n",
       "541907   2011-12-09\n",
       "541908   2011-12-09\n",
       "Name: InvoiceDate, Length: 541909, dtype: datetime64[ns]"
      ]
     },
     "execution_count": 111,
     "metadata": {},
     "output_type": "execute_result"
    }
   ],
   "source": [
    "# Formatage de la colonne \"InvoiceDate\" pour supprimer l'heure et ne garder que JJ/MM/AAAA\n",
    "\n",
    "# on transforme les données en liste\n",
    "df['InvoiceDate'] = df['InvoiceDate'].apply(str.split) \n",
    "\n",
    "# on ne garde que le 1er élément de la liste indice 0\n",
    "df['InvoiceDate'] = df['InvoiceDate'].apply(lambda x : x[0]) \n",
    "\n",
    "df['InvoiceDate'] = pd.to_datetime(df['InvoiceDate'])\n",
    "df['InvoiceDate']\n"
   ]
  },
  {
   "cell_type": "code",
   "execution_count": 112,
   "metadata": {},
   "outputs": [
    {
     "name": "stdout",
     "output_type": "stream",
     "text": [
      "<class 'pandas.core.frame.DataFrame'>\n",
      "RangeIndex: 541909 entries, 0 to 541908\n",
      "Data columns (total 8 columns):\n",
      " #   Column       Non-Null Count   Dtype         \n",
      "---  ------       --------------   -----         \n",
      " 0   InvoiceNo    541909 non-null  object        \n",
      " 1   StockCode    541909 non-null  object        \n",
      " 2   Description  540455 non-null  object        \n",
      " 3   Quantity     541909 non-null  int64         \n",
      " 4   InvoiceDate  541909 non-null  datetime64[ns]\n",
      " 5   UnitPrice    541909 non-null  float64       \n",
      " 6   CustomerID   406829 non-null  float64       \n",
      " 7   Country      541909 non-null  object        \n",
      "dtypes: datetime64[ns](1), float64(2), int64(1), object(4)\n",
      "memory usage: 33.1+ MB\n"
     ]
    }
   ],
   "source": [
    "df.info()"
   ]
  },
  {
   "cell_type": "code",
   "execution_count": 113,
   "metadata": {},
   "outputs": [],
   "source": [
    "# Création d'une colonne \"TotalCA\"\n",
    "\n",
    "df['TotalCA'] = round(df['Quantity'] * df['UnitPrice'],2)\n",
    "\n",
    "df['TotalCA'] = df['TotalCA'].apply(lambda x: 0 if x <= 0 else x)\n",
    "\n",
    "df['TotalCA'] = df['TotalCA'].apply(lambda x: str(x).replace(\".\", \",\"))\n"
   ]
  },
  {
   "cell_type": "code",
   "execution_count": 114,
   "metadata": {},
   "outputs": [],
   "source": [
    "# Remplir les descriptions nulles avec celles en majuscules si StockCode correspond\n",
    "\n",
    "# for index, row in df.iterrows():\n",
    "#     if pd.isna(row['Description']):  # Vérifie si la description est NaN\n",
    "#         stock_code = row['StockCode']  # Stocke le StockCode correspondant\n",
    "#         # Cherche une description en majuscule dans le même StockCode\n",
    "#         matching_rows = df[\n",
    "#             (df['StockCode'] == stock_code) & \n",
    "#             (df['Description'].str.isupper() == True)\n",
    "#         ]\n",
    "#         if not matching_rows.empty:  # Si une ligne correspondante est trouvée\n",
    "#         # if len(matching_rows) > 0: # Alternative\n",
    "#             df.at[index, 'Description'] = matching_rows['Description'].iloc[0]\n"
   ]
  },
  {
   "cell_type": "code",
   "execution_count": 115,
   "metadata": {},
   "outputs": [],
   "source": [
    "# Fonction pour calculer le % de majuscules\n",
    "def pourcent_maj(texte):\n",
    "    maj_compte = sum(1 for caract in texte if caract.isupper())\n",
    "    total = sum(1 for caract in texte if caract.isalpha())\n",
    "    if total != 0:\n",
    "        return maj_compte / total * 100\n",
    "    else : \n",
    "        return 0"
   ]
  },
  {
   "cell_type": "code",
   "execution_count": 116,
   "metadata": {},
   "outputs": [],
   "source": [
    "# Dico de référence CODE / DESCRIPTION\n",
    "\n",
    "dico_ref = {}\n",
    "\n",
    "for stock_code, groupe in df.groupby('StockCode'):\n",
    "    descriptions = groupe['Description'].unique()\n",
    "    plus_gd_pourcent = max(descriptions, key=lambda x : pourcent_maj(str(x)))\n",
    "    dico_ref[stock_code] = plus_gd_pourcent\n",
    "\n",
    "\n",
    "def application(row):\n",
    "    if row['StockCode'] in dico_ref.keys():\n",
    "        return dico_ref[row['StockCode']]\n",
    "    else:\n",
    "        return row['Description']\n",
    "    \n",
    "\n",
    "df['Description'] = df.apply(application, axis=1)"
   ]
  },
  {
   "cell_type": "code",
   "execution_count": 117,
   "metadata": {},
   "outputs": [
    {
     "name": "stdout",
     "output_type": "stream",
     "text": [
      "<class 'pandas.core.frame.DataFrame'>\n",
      "RangeIndex: 541909 entries, 0 to 541908\n",
      "Data columns (total 9 columns):\n",
      " #   Column       Non-Null Count   Dtype         \n",
      "---  ------       --------------   -----         \n",
      " 0   InvoiceNo    541909 non-null  object        \n",
      " 1   StockCode    541909 non-null  object        \n",
      " 2   Description  541797 non-null  object        \n",
      " 3   Quantity     541909 non-null  int64         \n",
      " 4   InvoiceDate  541909 non-null  datetime64[ns]\n",
      " 5   UnitPrice    541909 non-null  float64       \n",
      " 6   CustomerID   406829 non-null  float64       \n",
      " 7   Country      541909 non-null  object        \n",
      " 8   TotalCA      541909 non-null  object        \n",
      "dtypes: datetime64[ns](1), float64(2), int64(1), object(5)\n",
      "memory usage: 37.2+ MB\n"
     ]
    }
   ],
   "source": [
    "df.info()"
   ]
  },
  {
   "cell_type": "code",
   "execution_count": 118,
   "metadata": {},
   "outputs": [
    {
     "data": {
      "text/plain": [
       "0         2,55\n",
       "1         3,39\n",
       "2         2,75\n",
       "3         3,39\n",
       "4         3,39\n",
       "          ... \n",
       "541904    0,85\n",
       "541905     2,1\n",
       "541906    4,15\n",
       "541907    4,15\n",
       "541908    4,95\n",
       "Name: UnitPrice, Length: 541909, dtype: object"
      ]
     },
     "execution_count": 118,
     "metadata": {},
     "output_type": "execute_result"
    }
   ],
   "source": [
    "\n",
    "df['UnitPrice'] = df['UnitPrice'].apply(lambda x: str(x).replace(\".\", \",\"))\n",
    "df['UnitPrice']\n"
   ]
  },
  {
   "cell_type": "code",
   "execution_count": 119,
   "metadata": {},
   "outputs": [
    {
     "data": {
      "text/plain": [
       "0         17850\n",
       "1         17850\n",
       "2         17850\n",
       "3         17850\n",
       "4         17850\n",
       "          ...  \n",
       "541904    12680\n",
       "541905    12680\n",
       "541906    12680\n",
       "541907    12680\n",
       "541908    12680\n",
       "Name: CustomerID, Length: 541909, dtype: int32"
      ]
     },
     "execution_count": 119,
     "metadata": {},
     "output_type": "execute_result"
    }
   ],
   "source": [
    "df['CustomerID'] = df['CustomerID'].fillna(0)\n",
    "df['CustomerID'] = df['CustomerID'].astype(int)\n",
    "df['CustomerID']"
   ]
  },
  {
   "cell_type": "code",
   "execution_count": 120,
   "metadata": {},
   "outputs": [],
   "source": [
    "# Export en CSV\n",
    "df.to_csv(\"data_clean.csv\")"
   ]
  }
 ],
 "metadata": {
  "colab": {
   "authorship_tag": "ABX9TyNd9iGxIlS9pFWB6Vim1Nve",
   "provenance": []
  },
  "kernelspec": {
   "display_name": "base",
   "language": "python",
   "name": "python3"
  },
  "language_info": {
   "codemirror_mode": {
    "name": "ipython",
    "version": 3
   },
   "file_extension": ".py",
   "mimetype": "text/x-python",
   "name": "python",
   "nbconvert_exporter": "python",
   "pygments_lexer": "ipython3",
   "version": "3.12.4"
  }
 },
 "nbformat": 4,
 "nbformat_minor": 0
}
